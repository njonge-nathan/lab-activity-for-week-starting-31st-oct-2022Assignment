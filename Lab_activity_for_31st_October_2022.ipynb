{
  "nbformat": 4,
  "nbformat_minor": 0,
  "metadata": {
    "colab": {
      "provenance": [],
      "toc_visible": true,
      "authorship_tag": "ABX9TyO2/l1VU5WTTBUWGQnRkopq",
      "include_colab_link": true
    },
    "kernelspec": {
      "name": "python3",
      "display_name": "Python 3"
    },
    "language_info": {
      "name": "python"
    }
  },
  "cells": [
    {
      "cell_type": "markdown",
      "metadata": {
        "id": "view-in-github",
        "colab_type": "text"
      },
      "source": [
        "<a href=\"https://colab.research.google.com/github/njonge-nathan/lab-activity-for-week-starting-31st-oct-2022Assignment/blob/main/Lab_activity_for_31st_October_2022.ipynb\" target=\"_parent\"><img src=\"https://colab.research.google.com/assets/colab-badge.svg\" alt=\"Open In Colab\"/></a>"
      ]
    },
    {
      "cell_type": "markdown",
      "source": [
        "# 094230 Nathan Njonge"
      ],
      "metadata": {
        "id": "DBLhNkTjFnyx"
      }
    },
    {
      "cell_type": "markdown",
      "source": [
        "# 1 Write the three address code (TAC) "
      ],
      "metadata": {
        "id": "AxBK-nJHRWvJ"
      }
    },
    {
      "cell_type": "markdown",
      "source": [
        "## 3-address code of if else "
      ],
      "metadata": {
        "id": "wTtZZCynWirr"
      }
    },
    {
      "cell_type": "markdown",
      "source": [
        "( if A < B then 1 else 0 )"
      ],
      "metadata": {
        "id": "VpaJTGzIWsue"
      }
    },
    {
      "cell_type": "markdown",
      "source": [
        "1. if (A < B) go to 4\n",
        "2. T1 = 0\n",
        "3. goto 5\n",
        "4. T1 = 1\n",
        "5. go to calling program"
      ],
      "metadata": {
        "id": "RZh9QrQMW5Pm"
      }
    },
    {
      "cell_type": "markdown",
      "source": [
        "## 3-Address code of for loop:"
      ],
      "metadata": {
        "id": "0Lt56RsASh3_"
      }
    },
    {
      "cell_type": "markdown",
      "source": [
        "for loop in C"
      ],
      "metadata": {
        "id": "XS7q2m9OSUqj"
      }
    },
    {
      "cell_type": "code",
      "execution_count": null,
      "metadata": {
        "id": "DSkXJgq2RQ95"
      },
      "outputs": [],
      "source": [
        "fact(x)\n",
        "{\n",
        "\tint f = 1;\n",
        "\tfor (i = 2; i <= x; i++)\n",
        "\t\tf = f * i;\n",
        "\treturn f;\n",
        "}"
      ]
    },
    {
      "cell_type": "markdown",
      "source": [
        "\n",
        "\n",
        "1.   f = 1;\n",
        "2. i = 2;\n",
        "3. if (i > x) goto 9\n",
        "4. t1 = f * i;\n",
        "5. f = t1;\n",
        "6. t2 = i + 1;\n",
        "7. i = t2;\n",
        "8. goto(3)\n",
        "9. goto calling program\n",
        "\n"
      ],
      "metadata": {
        "id": "94je0XZLSt71"
      }
    },
    {
      "cell_type": "markdown",
      "source": [
        "## 3-address code for while loop"
      ],
      "metadata": {
        "id": "H9EZLKnkUIbg"
      }
    },
    {
      "cell_type": "markdown",
      "source": [
        "**(while (a < b) do x = y + z)**"
      ],
      "metadata": {
        "id": "Wvqpvoc4UVkX"
      }
    },
    {
      "cell_type": "markdown",
      "source": [
        "1. if (a < b) go to 3\n",
        "2. go to -- \n",
        "3. t1 = y + z\n",
        "4. x = t1\n",
        "5. go to 1"
      ],
      "metadata": {
        "id": "iYBBPS8gUlp-"
      }
    },
    {
      "cell_type": "markdown",
      "source": [
        "# 2 Triple implementation of if-statement"
      ],
      "metadata": {
        "id": "ZSmBVebeEf18"
      }
    },
    {
      "cell_type": "markdown",
      "source": [
        "(if A < B and C < D then t = 1 else t = 0)"
      ],
      "metadata": {
        "id": "RBUcYOFqEs3_"
      }
    },
    {
      "cell_type": "markdown",
      "source": [
        "1. if (A < B) go to 3\n",
        "2. go to 4\n",
        "3. if(A < B) go to 6\n",
        "4. T1 = 0\n",
        "5. go to 7\n",
        "6. T1 = 1\n",
        "7. go to calling program"
      ],
      "metadata": {
        "id": "WtukFwCrFFbH"
      }
    }
  ]
}